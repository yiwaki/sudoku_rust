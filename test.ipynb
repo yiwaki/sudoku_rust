{
 "cells": [
  {
   "cell_type": "code",
   "execution_count": null,
   "metadata": {},
   "outputs": [],
   "source": [
    "from sudoku_rust import solve\n",
    "import numpy as np\n",
    "import time"
   ]
  },
  {
   "cell_type": "code",
   "execution_count": null,
   "metadata": {},
   "outputs": [],
   "source": [
    "filepath = 'data/evil_3.csv'\n",
    "x = np.loadtxt(filepath, delimiter=',').astype(np.uint16)\n",
    "x"
   ]
  },
  {
   "cell_type": "code",
   "execution_count": null,
   "metadata": {},
   "outputs": [],
   "source": [
    "start = time.perf_counter()\n",
    "y = solve(x)\n",
    "end = time.perf_counter()\n",
    "elapsed = end - start\n",
    "print(y)\n",
    "print(f'elapsed time: {elapsed:.6f}')"
   ]
  },
  {
   "cell_type": "code",
   "execution_count": 17,
   "metadata": {},
   "outputs": [
    {
     "name": "stdout",
     "output_type": "stream",
     "text": [
      "List: 10.245691 seconds\n",
      "Set: 0.000036 seconds\n",
      "100.000% faster\n"
     ]
    }
   ],
   "source": [
    "from timeit import timeit\n",
    "\n",
    "my_list = list(range(1_000_000))\n",
    "my_set = set(range(1_000_000))\n",
    "\n",
    "list_time = timeit('999_999 in my_list', number=1000, globals=globals())\n",
    "print(f'List: {list_time:.6f} seconds')\n",
    "\n",
    "set_time = timeit('999_999 in my_set', number=1000, globals=globals())\n",
    "print(f'Set: {set_time:.6f} seconds')\n",
    "\n",
    "speed_difference = (list_time - set_time) / list_time * 100\n",
    "print(f'{speed_difference:.3f}% faster')"
   ]
  },
  {
   "cell_type": "code",
   "execution_count": 18,
   "metadata": {},
   "outputs": [
    {
     "data": {
      "text/plain": [
       "True"
      ]
     },
     "execution_count": 18,
     "metadata": {},
     "output_type": "execute_result"
    }
   ],
   "source": [
    "999_999 in my_list"
   ]
  }
 ],
 "metadata": {
  "kernelspec": {
   "display_name": "Python 3",
   "language": "python",
   "name": "python3"
  },
  "language_info": {
   "codemirror_mode": {
    "name": "ipython",
    "version": 3
   },
   "file_extension": ".py",
   "mimetype": "text/x-python",
   "name": "python",
   "nbconvert_exporter": "python",
   "pygments_lexer": "ipython3",
   "version": "3.11.1"
  }
 },
 "nbformat": 4,
 "nbformat_minor": 2
}
